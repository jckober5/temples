{
 "cells": [
  {
   "cell_type": "code",
   "execution_count": 5,
   "metadata": {},
   "outputs": [],
   "source": [
    "import requests\n",
    "import pandas as pd\n",
    "import mysql.connector\n",
    "import decimal\n",
    "import pymysql\n",
    "\n",
    "url = \"https://churchofjesuschristtemples.org/maps/gps/\"\n",
    "filename = \"temples.csv\"\n",
    "\n",
    "# Send a GET request to the URL\n",
    "response = requests.get(url)\n",
    "\n",
    "# Check if the request was successful\n",
    "if response.status_code == 200:\n",
    "    # Save the content of the response (CSV file) to a local file\n",
    "    with open(filename, \"wb\") as file:\n",
    "        file.write(response.content)\n",
    "\n",
    " # Read the CSV file into a DataFrame\n",
    "    temples = pd.read_csv(filename, header=0, encoding= 'unicode_escape')\n",
    "    #print(temples.head)\n",
    "\n",
    "else:\n",
    "    print(\"Failed to download the file. Status code:\", response.status_code)"
   ]
  },
  {
   "cell_type": "code",
   "execution_count": 6,
   "metadata": {},
   "outputs": [
    {
     "name": "stdout",
     "output_type": "stream",
     "text": [
      "Temple         object\n",
      "Status         object\n",
      "Latitude       object\n",
      "Longitude      object\n",
      "Address        object\n",
      "City           object\n",
      "County         object\n",
      "State          object\n",
      "Postal_Code    object\n",
      "Country        object\n",
      "Phone          object\n",
      "dtype: object\n"
     ]
    }
   ],
   "source": [
    "# Format my dataframe to be uploaded to database\n",
    "df = {'Temple': temples.Temple\n",
    "    , 'Status': temples.Status\n",
    "    , 'Latitude': temples.Latitude\n",
    "    , 'Longitude': temples.Longitude\n",
    "    , 'Address': temples.Address\n",
    "    , 'City': temples.City\n",
    "    , 'County': temples.County\n",
    "    , 'State': temples.State\n",
    "    , 'Postal_Code': temples['Postal Code']\n",
    "    , 'Country': temples.Country\n",
    "    , 'Phone': temples.Phone\n",
    "}\n",
    "df = pd.DataFrame(df)\n",
    "df['Latitude'] = df['Latitude'].apply(decimal.Decimal)\n",
    "df['Longitude'] = df['Longitude'].apply(decimal.Decimal)\n",
    "print(df.dtypes)"
   ]
  },
  {
   "cell_type": "code",
   "execution_count": 7,
   "metadata": {},
   "outputs": [],
   "source": [
    "# Connect to MySQL server\n",
    "cnx = mysql.connector.connect(\n",
    "    host = '23.239.4.168'\n",
    "    , user = 'jkober'\n",
    "    , password = '4N4CrFHevPzpdt!'\n",
    "    , database = 'external_data'\n",
    ")\n",
    "\n",
    "# Create a cursor object to execute SQL queries\n",
    "cursor = cnx.cursor()\n",
    "\n",
    "# Query to drop table\n",
    "drop_table_query = \"\"\"\n",
    "    drop table external_data.temples\n",
    "\"\"\"\n",
    "cursor.execute(drop_table_query)\n",
    "\n",
    "# Query to create table\n",
    "create_table_query = \"\"\"\n",
    "    create table external_data.temples (\n",
    "        Temple varchar(50)\n",
    "        , Status varchar(50)\n",
    "        , Latitude float\n",
    "        , Longitude float\n",
    "        , Address varchar(200)\n",
    "        , City varchar(50)\n",
    "        , County varchar(50)\n",
    "        , State varchar(50)\n",
    "        , Postal_Code varchar(50)\n",
    "        , Country varchar(50)\n",
    "        , Phone varchar(50)\n",
    "    )\n",
    "    \"\"\"\n",
    "cursor.execute(create_table_query)"
   ]
  },
  {
   "cell_type": "code",
   "execution_count": 8,
   "metadata": {},
   "outputs": [],
   "source": [
    "# Insert Data into the table\n",
    "for i in range(len(df)):\n",
    "    sql = \"INSERT INTO external_data.temples (Temple, Status, Latitude, Longitude, Address, City, County, State, Postal_Code, Country, Phone) VALUES (%s, %s, %s, %s, %s, %s, %s, %s, %s, %s, %s)\"\n",
    "    values = (df['Temple'].iloc[i], df['Status'].iloc[i], df['Latitude'].iloc[i], df['Longitude'].iloc[i], df['Address'].iloc[i], df['City'].iloc[i], df['County'].iloc[i], df['State'].iloc[i], df['Postal_Code'].iloc[i], df['Country'].iloc[i], df['Phone'].iloc[i])\n",
    "        \n",
    "    # Execute the INSERT statement\n",
    "    cursor.execute(sql, values)\n",
    "\n",
    "# Commit the changes and close the connection\n",
    "cnx.commit()\n",
    "cnx.close()"
   ]
  }
 ],
 "metadata": {
  "kernelspec": {
   "display_name": "Python 3",
   "language": "python",
   "name": "python3"
  },
  "language_info": {
   "codemirror_mode": {
    "name": "ipython",
    "version": 3
   },
   "file_extension": ".py",
   "mimetype": "text/x-python",
   "name": "python",
   "nbconvert_exporter": "python",
   "pygments_lexer": "ipython3",
   "version": "3.9.13"
  },
  "orig_nbformat": 4
 },
 "nbformat": 4,
 "nbformat_minor": 2
}
